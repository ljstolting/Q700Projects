{
 "cells": [
  {
   "cell_type": "code",
   "execution_count": 1,
   "id": "9ec2baa5",
   "metadata": {},
   "outputs": [],
   "source": [
    "import math\n",
    "import numpy as np\n",
    "import matplotlib.pyplot as plt\n",
    "import scipy.signal as spsg\n",
    "import scipy.special as special\n",
    "import statistics as stat"
   ]
  },
  {
   "cell_type": "code",
   "execution_count": 2,
   "id": "440a0b15",
   "metadata": {},
   "outputs": [],
   "source": [
    "def sigmoid(x):\n",
    "    return 1/(1+special.expit(-x))\n",
    "\n",
    "class CTRNN():\n",
    "\n",
    "    def __init__(self,duration,dt):\n",
    "        size = 3\n",
    "        self.Size = size                        # number of neurons in the circuit\n",
    "        self.States = np.zeros(size)            # state of the neurons\n",
    "        self.TimeConstants = np.ones(size)      # time-constant for each neuron\n",
    "        self.invTimeConstants = 1.0/self.TimeConstants\n",
    "        self.Biases = np.zeros(size)            # bias for each neuron\n",
    "        self.Weights = np.zeros((size,size))    # connection weight for each pair of neurons\n",
    "        self.Outputs = np.zeros(size)           # neuron outputs\n",
    "        self.Inputs = np.zeros(size)            # external input to each neuron\n",
    "        self.time = np.arange(0.0,duration,dt)\n",
    "        self.TimeSeries = np.zeros((len(self.time),3))\n",
    "        self.dt = dt\n",
    "        \n",
    "\n",
    "    def updateInput(self,inputvals):\n",
    "        self.Inputs = inputvals\n",
    "    \n",
    "    def setWeights(self, weights):\n",
    "        self.Weights =  weights\n",
    "\n",
    "    def setBiases(self, biases):\n",
    "        self.Biases =  biases\n",
    "\n",
    "    def setTimeConstants(self, timeconstants):\n",
    "        self.TimeConstants =  timeconstants\n",
    "        self.invTimeConstants = 1.0/self.TimeConstants\n",
    "\n",
    "    def randomizeParameters(self):\n",
    "        self.Weights = np.random.uniform(-10,10,size=(self.Size,self.Size))\n",
    "        self.Biases = np.random.uniform(-10,10,size=(self.Size))\n",
    "        self.TimeConstants = np.random.uniform(0.1,5.0,size=(self.Size))\n",
    "        self.invTimeConstants = 1.0/self.TimeConstants\n",
    "\n",
    "    def initializeState(self, s):\n",
    "        self.States = s\n",
    "        self.Outputs = sigmoid(self.States+self.Biases)\n",
    "\n",
    "    def step(self):\n",
    "        netinput = self.Inputs + np.dot(self.Weights.T, self.Outputs)\n",
    "        self.States += self.dt * np.multiply(self.invTimeConstants,(-self.States+netinput))\n",
    "        self.Outputs = sigmoid(self.States+self.Biases)"
   ]
  },
  {
   "cell_type": "code",
   "execution_count": 3,
   "id": "b0326c77",
   "metadata": {},
   "outputs": [],
   "source": [
    "##Two-legged walker with interneuron and tonic input to interneuron\n",
    "\n",
    "# Constants\n",
    "LegLength = np.array([15,15])\n",
    "MaxLegForce = 0.05\n",
    "ForwardAngleLimit = math.pi/6.0\n",
    "BackwardAngleLimit = -math.pi/6.0\n",
    "MaxVelocity = 6.0\n",
    "MaxTorque = 0.5\n",
    "MaxOmega = 1.0\n",
    "\n",
    "class LeggedAgent:\n",
    "\n",
    "    def __init__(self,l,stepsize,duration):   #n= number of legs, l=2 for me\n",
    "        self.legs = l\n",
    "        self.ix = 0.0\n",
    "        self.iy = 0.0\n",
    "        self.cx = 0.0\n",
    "        self.cy = 0.0\n",
    "        self.vx = 0.0\n",
    "        self.footstate = np.zeros(l)\n",
    "        self.angle = np.repeat(np.array(ForwardAngleLimit),l)\n",
    "        self.omega = np.zeros(l)\n",
    "        self.forwardForce = np.zeros(l)\n",
    "        self.backwardForce = np.zeros(l)\n",
    "        self.jointX = np.repeat(self.cx,l)\n",
    "        self.jointY = np.repeat(self.cy + 12.5,l)\n",
    "        self.footX = self.jointX + LegLength * np.sin(self.angle)\n",
    "        self.footY = self.jointY + LegLength * np.cos(self.angle)\n",
    "        self.stepsize = stepsize\n",
    "\n",
    "    def state(self):\n",
    "        return np.array([self.angle, self.omega, self.footstate])\n",
    "\n",
    "    def out(self):\n",
    "        return np.array([self.angle * 5.0/ForwardAngleLimit])\n",
    "\n",
    "    def walkstep(self, u):\n",
    "        #print(\"Walkstep\")\n",
    "        force = np.zeros(self.legs)\n",
    "        for i in range(self.legs):\n",
    "            # Update the leg effectors\n",
    "            if (u[i] > 0.5):\n",
    "                self.footstate[i] = 1\n",
    "                self.omega[i] = 0\n",
    "                self.forwardForce[i] = 2 * (u[i] - 0.5) * MaxLegForce;\n",
    "                self.backwardForce[i] = 0.0\n",
    "            else:\n",
    "                self.footstate[i] = 0\n",
    "                self.forwardForce[i] = 0.0\n",
    "                self.backwardForce[i] = 2 * (0.5 - u[i]) * MaxLegForce;\n",
    "\n",
    "        # Compute force applied to the body\n",
    "        for i in range(self.legs):\n",
    "            f = self.forwardForce[i] - self.backwardForce[i]\n",
    "            if self.footstate[i] == 1.0:\n",
    "                if ((self.angle[i] >= BackwardAngleLimit and self.angle[i] <= ForwardAngleLimit) or\n",
    "                    (self.angle[i] < BackwardAngleLimit and f < 0) or\n",
    "                    (self.angle[i] > ForwardAngleLimit and f > 0)):\n",
    "                    force[i] = f\n",
    "        totalforce = sum(force)\n",
    "\n",
    "        # Update the position of the body\n",
    "        self.vx = self.vx + self.stepsize * totalforce\n",
    "        if (self.vx < -MaxVelocity):\n",
    "            self.vx = -MaxVelocity\n",
    "        if (self.vx > MaxVelocity):\n",
    "            self.vx = MaxVelocity\n",
    "        self.cx = self.cx + self.stepsize * self.vx\n",
    "        \n",
    "        # Update the leg geometry\n",
    "        for i in range(self.legs):\n",
    "            self.jointX[i] = self.jointX[i] + self.stepsize * self.vx\n",
    "            if (self.footstate[i] == 1.0):\n",
    "                angle = math.atan2(self.footX[i] - self.jointX[i], self.footY[i] - self.jointY[i])\n",
    "                self.omega[i] = (angle - self.angle[i])/self.stepsize\n",
    "                self.angle[i] = angle\n",
    "            else:\n",
    "                self.vx = 0.0\n",
    "                self.omega[i] = self.omega[i] + self.stepsize * MaxTorque * (self.backwardForce[i] - self.forwardForce[i])\n",
    "                if (self.omega[i] < -MaxOmega):\n",
    "                    self.omega[i] = -MaxOmega\n",
    "                if (self.omega[i] > MaxOmega):\n",
    "                    self.omega[i] = MaxOmega\n",
    "                self.angle[i] = self.angle[i] + self.stepsize * self.omega[i]\n",
    "                if (self.angle[i] < BackwardAngleLimit):\n",
    "                    self.angle[i] = BackwardAngleLimit\n",
    "                    self.omega[i] = 0\n",
    "                if (self.angle[i] > ForwardAngleLimit):\n",
    "                    self.angle[i] = ForwardAngleLimit\n",
    "                    self.omega[i] = 0\n",
    "                self.footX[i] = self.jointX[i] + LegLength[i] * math.sin(self.angle[i])\n",
    "                self.footY[i] = self.jointY[i] + LegLength[i] * math.cos(self.angle[i])\n",
    "\n",
    "        # If any foot is too far back, the body becomes \"unstable\" and forward motion ceases\n",
    "        for i in range(self.legs):\n",
    "            if (self.cx - self.footX[i] > 20):\n",
    "                self.vx = 0.0\n",
    "        \n",
    "    \n",
    "    def run(self,duration,n,inputarray):\n",
    "        self.ctrnn_record = np.zeros((self.legs+1,len(inputarray[0])))\n",
    "        self.walker_record = np.zeros(len(inputarray[0]))\n",
    "        self.timeseries = np.arange(0,duration,self.stepsize)\n",
    "        for t in range(len(self.timeseries)):\n",
    "            n.updateInput(inputarray[:,t])  \n",
    "            n.step()\n",
    "            self.walkstep(n.Outputs)\n",
    "            self.ctrnn_record[:,t] = n.Outputs\n",
    "            self.walker_record[t] = self.cx\n",
    "                \n",
    "                \n",
    "            "
   ]
  },
  {
   "cell_type": "code",
   "execution_count": 4,
   "id": "50217780",
   "metadata": {},
   "outputs": [],
   "source": [
    "#Phase only makes sense if there is oscillation, so how do we make sure there is oscillation before doing this analysis\n",
    "#first evolve a population of walkers,then from there you can evaluate for phase?\n",
    "#Clean transients out of timeseries (both at start and after current step)\n",
    "\n",
    "def clean(timeseries, transientlen):\n",
    "    #print(\"cleaning timeseries\")\n",
    "    inputdivision = int(len(timeseries)/2)\n",
    "    firsthalf = timeseries[:inputdivision]\n",
    "    lasthalf = timeseries[inputdivision:]\n",
    "    cln_firsthalf = firsthalf[transientlen:]\n",
    "    cln_lasthalf = lasthalf[transientlen:]\n",
    "    return cln_firsthalf, cln_lasthalf"
   ]
  },
  {
   "cell_type": "code",
   "execution_count": 5,
   "id": "2a2dafeb",
   "metadata": {},
   "outputs": [],
   "source": [
    "#phase analysis on half-timeseries without transients\n",
    "def avgphase(l_timeseries,r_timeseries):\n",
    "    #print(\"calc phase shift\")\n",
    "    timederivs = np.array([np.diff(l_timeseries)/stepsize,np.diff(r_timeseries)/stepsize])\n",
    "    num_cycles1 = len(spsg.find_peaks(timederivs[0],prominence = .0005)[0])\n",
    "    num_cycles2 = len(spsg.find_peaks(timederivs[1],prominence = .0005)[0]) \n",
    "    if num_cycles1 <= 1 or num_cycles2<=1:\n",
    "        return 100\n",
    "    else:\n",
    "        #print(num_cycles1,num_cycles2)\n",
    "        num_cycles = min([num_cycles1,num_cycles2])\n",
    "        onset_times = np.zeros((2,num_cycles))\n",
    "        for i in range(2):\n",
    "            onset_times[i]= spsg.find_peaks(timederivs[i],prominence = .0005)[0][:num_cycles]\n",
    "            onset_times[i] = onset_times[i]*stepsize\n",
    "        \n",
    "        #print(onset_times)\n",
    "        period = stat.mean([onset_times[0,1]-onset_times[0,0],onset_times[1,1]-onset_times[1,0]])\n",
    "        shifted_onset_times = np.zeros(num_cycles)\n",
    "          \n",
    "        for j in range(len(onset_times[0])):\n",
    "            shifted_onset_times[j] = onset_times[1,j] - onset_times[0,j]\n",
    "\n",
    "        phases = shifted_onset_times/period\n",
    "        avg_phase = np.average(phases)\n",
    "        return avg_phase\n",
    "            \n",
    "def fitnesscalc(l_0,l_i,r_0,r_i,w_0,w_i):\n",
    "    #print(\"calculating fitness\")\n",
    "    phase0 = avgphase(l_0,r_0)\n",
    "    phasei = avgphase(l_i,r_i)\n",
    "    if phase0 == 100 or phasei == 100:\n",
    "        return -1\n",
    "    else:\n",
    "        speed0 = (w_0[-1]-w_0[0])/duration\n",
    "        speedi = (w_i[-1]-w_i[0])/duration\n",
    "        fitness = speed0*(1-2*abs(.5-phase0))+speedi*(2*abs(.5-phasei))\n",
    "        return fitness\n",
    "            "
   ]
  },
  {
   "cell_type": "code",
   "execution_count": 6,
   "id": "d07596fc",
   "metadata": {},
   "outputs": [],
   "source": [
    "#Evolutionary algorithm:\n",
    "class Microbial():\n",
    "\n",
    "    def __init__(self, fitnessFunction, popsize, genesize, recombProb, mutatProb, generations):\n",
    "        self.fitnessFunction = fitnessFunction\n",
    "        self.popsize = popsize\n",
    "        self.genesize = genesize\n",
    "        self.recombProb = recombProb\n",
    "        self.mutatProb = mutatProb\n",
    "        self.generations = generations\n",
    "        self.tournaments = generations*popsize\n",
    "        self.pop = np.random.rand(popsize,genesize)*2 - 1\n",
    "        self.fitness = np.zeros(popsize)\n",
    "        self.avgHistory = np.zeros(generations)\n",
    "        self.bestHistory = np.zeros(generations)\n",
    "        self.gen = 0\n",
    "\n",
    "    def showFitness(self):\n",
    "        plt.plot(self.bestHistory)\n",
    "        plt.plot(self.avgHistory)\n",
    "        plt.xlabel(\"Generations\")\n",
    "        plt.ylabel(\"Fitness\")\n",
    "        plt.title(\"Best and average fitness\")\n",
    "        plt.show()\n",
    "\n",
    "    def fitStats(self):\n",
    "        bestind = self.pop[np.argmax(self.fitness)]\n",
    "        bestfit = np.max(self.fitness)\n",
    "        avgfit = np.mean(self.fitness)\n",
    "        self.avgHistory[self.gen]=avgfit\n",
    "        self.bestHistory[self.gen]=bestfit\n",
    "        return avgfit, bestfit, bestind\n",
    "\n",
    "    def run(self):\n",
    "        # Calculate all fitness once\n",
    "        for i in range(self.popsize):\n",
    "            #print(self.pop[i])\n",
    "            self.pop[i] = np.clip(self.pop[i],[-20,-20,-20,-20,-20,-20,-20,-20,-20,-20,-20,-20,.01,.01,.01],[20,20,20,20,20,20,20,20,20,20,20,20,15,15,15]) #lists are the max and min cutoffs for each parameter\n",
    "            self.fitness[i] = self.fitnessFunction(self.pop[i])\n",
    "        # Evolutionary loop\n",
    "        for g in range(self.generations):\n",
    "            self.gen = g\n",
    "            # Report statistics every generation\n",
    "            self.fitStats()\n",
    "            #print(self.bestHistory)\n",
    "            for i in range(self.popsize):\n",
    "                # Step 1: Pick 2 individuals\n",
    "                a = np.random.randint(0,self.popsize-1)\n",
    "                b = np.random.randint(0,self.popsize-1)\n",
    "                while (a==b):   # Make sure they are two different individuals\n",
    "                    b = np.random.randint(0,self.popsize-1)\n",
    "                # Step 2: Compare their fitness\n",
    "                if (self.fitness[a] > self.fitness[b]):\n",
    "                    winner = a\n",
    "                    loser = b\n",
    "                else:\n",
    "                    winner = b\n",
    "                    loser = a\n",
    "                # Step 3: Transfect loser with winner\n",
    "                for l in range(self.genesize):\n",
    "                    if (np.random.random() < self.recombProb):\n",
    "                        self.pop[loser][l] = self.pop[winner][l]\n",
    "                # Step 4: Mutate loser and make sure new organism stays within bounds\n",
    "                self.pop[loser] += np.random.normal(0.0,self.mutatProb,size=self.genesize)\n",
    "                self.pop[loser] = np.clip(self.pop[loser],[-20,-20,-20,-20,-20,-20,-20,-20,-20,-20,-20,-20,0.01,0.01,0.01],[20,20,20,20,20,20,20,20,20,20,20,20,15,15,15]) #lists are the max and min cutoffs for each parameter\n",
    "                # Save new fitness\n",
    "                self.fitness[loser] = self.fitnessFunction(self.pop[loser])"
   ]
  },
  {
   "cell_type": "code",
   "execution_count": 7,
   "id": "f6ef8418",
   "metadata": {},
   "outputs": [],
   "source": [
    "duration=50\n",
    "stepsize=.05\n",
    "currentstep = 1\n",
    "transientlength = 60  #length of the transient in time-steps\n",
    "\n",
    "#the full fitness function, from genome to fitness\n",
    "def fullfitness(genome):\n",
    "    inputarray = np.zeros((3,len(np.arange(0,duration,stepsize))))\n",
    "    division=int(len(inputarray[0])/2)\n",
    "    inputarray[2,division:]=currentstep  #tonic input to the interneuron during the second half of the run\n",
    "    N = CTRNN(3,stepsize)\n",
    "    #N.__init__(3)\n",
    "    A = LeggedAgent(2,stepsize,duration)\n",
    "    weightmatrix = np.reshape(genome[:9],(3,3))\n",
    "    multiplier = np.abs(np.fliplr(np.identity(3))-np.ones((3,3))) #keeps absent connections set to zero\n",
    "    weightmatrix = weightmatrix*multiplier\n",
    "    N.setWeights(weightmatrix)\n",
    "    #print(\"weights=\",weightmatrix)\n",
    "    N.setBiases(genome[9:12])\n",
    "    #print(\"biases=\",genome[9:12])\n",
    "    N.setTimeConstants(genome[12:15])\n",
    "    #print(\"ts=\",genome[12:14])\n",
    "    A.run(duration,N,inputarray)\n",
    "    l_0,l_i = clean(A.ctrnn_record[0],transientlength)\n",
    "    r_0,r_i = clean(A.ctrnn_record[1],transientlength)\n",
    "    w_0,w_i = clean(A.walker_record,transientlength)\n",
    "    return fitnesscalc(l_0,l_i,r_0,r_i,w_0,w_i)"
   ]
  },
  {
   "cell_type": "code",
   "execution_count": 18,
   "id": "dceacb36",
   "metadata": {},
   "outputs": [
    {
     "name": "stderr",
     "output_type": "stream",
     "text": [
      "<ipython-input-2-80d927e654ae>:46: RuntimeWarning: overflow encountered in multiply\n",
      "  self.States += self.dt * np.multiply(self.invTimeConstants,(-self.States+netinput))\n",
      "<ipython-input-2-80d927e654ae>:46: RuntimeWarning: invalid value encountered in add\n",
      "  self.States += self.dt * np.multiply(self.invTimeConstants,(-self.States+netinput))\n"
     ]
    }
   ],
   "source": [
    "popsize=30\n",
    "genesize=15\n",
    "recombProb=.5\n",
    "mutatProb=.1\n",
    "generations=100\n",
    "\n",
    "M=Microbial(fullfitness,popsize, genesize, recombProb, mutatProb, generations)\n",
    "\n",
    "M.run()"
   ]
  },
  {
   "cell_type": "code",
   "execution_count": 23,
   "id": "fef1e271",
   "metadata": {},
   "outputs": [
    {
     "data": {
      "text/plain": [
       "[<matplotlib.lines.Line2D at 0x1bc0694b5b0>,\n",
       " <matplotlib.lines.Line2D at 0x1bc0694b670>,\n",
       " <matplotlib.lines.Line2D at 0x1bc0694b730>]"
      ]
     },
     "execution_count": 23,
     "metadata": {},
     "output_type": "execute_result"
    },
    {
     "data": {
      "image/png": "[encoded data removed]",
      "text/plain": [
       "<Figure size 432x288 with 1 Axes>"
      ]
     },
     "metadata": {
      "needs_background": "light"
     },
     "output_type": "display_data"
    }
   ],
   "source": [
    "#look at the best evolved individual\n",
    "#best_genome = np.array([15.546387,-12.697064,13.606401,11.594109,1.562798,-3.227799,-3.208949,-12.919737,6.167427,-9.573342,12.322079,-7.014952,7.277699,2.304232,2.926110])\n",
    "#duration=500\n",
    "\n",
    "best_genome = M.fitStats()[2] #genome of best individual\n",
    "inputarray = np.zeros((3,len(np.arange(0,duration,stepsize))))\n",
    "division=int(len(inputarray[0])/2)\n",
    "inputarray[2,division:]=currentstep  #tonic input to the interneuron during the second half of the run\n",
    "N = CTRNN(3,stepsize)\n",
    "#N.__init__(3)\n",
    "A = LeggedAgent(2,stepsize,duration)\n",
    "weightmatrix = np.reshape(best_genome[:9],(3,3))\n",
    "multiplier = np.abs(np.fliplr(np.identity(3))-np.ones((3,3))) #keeps absent connections set to zero\n",
    "weightmatrix = weightmatrix*multiplier\n",
    "N.setWeights(weightmatrix)\n",
    "#print(\"weights=\",weights)\n",
    "N.setBiases(best_genome[9:12])\n",
    "#print(\"biases=\",best_genome[9:12])\n",
    "N.setTimeConstants(best_genome[12:15])\n",
    "#print(\"ts=\",best_genome[12:15])\n",
    "A.run(duration,N,inputarray)\n",
    "plt.plot(A.ctrnn_record.T[475:525,:])"
   ]
  },
  {
   "cell_type": "code",
   "execution_count": 25,
   "id": "b54a8f4e",
   "metadata": {},
   "outputs": [
    {
     "data": {
      "text/plain": [
       "Text(0, 0.5, 'Fitness')"
      ]
     },
     "execution_count": 25,
     "metadata": {},
     "output_type": "execute_result"
    },
    {
     "data": {
      "image/png": "[encoded data removed]",
      "text/plain": [
       "<Figure size 432x288 with 1 Axes>"
      ]
     },
     "metadata": {
      "needs_background": "light"
     },
     "output_type": "display_data"
    }
   ],
   "source": [
    "plt.plot(M.bestHistory)\n",
    "plt.title(\"Best Individual vs. Generation\")\n",
    "plt.xlabel(\"Generation\")\n",
    "plt.ylabel(\"Fitness\")"
   ]
  },
  {
   "cell_type": "code",
   "execution_count": 77,
   "id": "2603649d",
   "metadata": {},
   "outputs": [
    {
     "data": {
      "text/plain": [
       "[<matplotlib.lines.Line2D at 0x18dd2a8f940>]"
      ]
     },
     "execution_count": 77,
     "metadata": {},
     "output_type": "execute_result"
    },
    {
     "data": {
      "image/png": "[encoded data removed]",
      "text/plain": [
       "<Figure size 432x288 with 1 Axes>"
      ]
     },
     "metadata": {
      "needs_background": "light"
     },
     "output_type": "display_data"
    }
   ],
   "source": [
    "x=np.linspace(0,1,300)\n",
    "plt.plot(x,(1-2*abs(.5-x)))\n",
    "plt.plot(x,(2*abs(.5-x)))\n"
   ]
  }
 ],
 "metadata": {
  "kernelspec": {
   "display_name": "Python 3",
   "language": "python",
   "name": "python3"
  },
  "language_info": {
   "codemirror_mode": {
    "name": "ipython",
    "version": 3
   },
   "file_extension": ".py",
   "mimetype": "text/x-python",
   "name": "python",
   "nbconvert_exporter": "python",
   "pygments_lexer": "ipython3",
   "version": "3.8.8"
  }
 },
 "nbformat": 4,
 "nbformat_minor": 5
}
